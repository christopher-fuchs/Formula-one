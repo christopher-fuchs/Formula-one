{
 "cells": [
  {
   "cell_type": "code",
   "execution_count": null,
   "metadata": {},
   "outputs": [],
   "source": [
    "import numpy as np\n",
    "import pandas as pd\n",
    "import math\n",
    "from itertools import combinations\n",
    "import itertools\n",
    "import re\n",
    "import time"
   ]
  },
  {
   "cell_type": "code",
   "execution_count": null,
   "metadata": {},
   "outputs": [],
   "source": [
    "data_2019 = pd.read_excel('Formula 1.xlsx',sheet_name = '2019')\n",
    "data_2018 = pd.read_excel('Formula 1.xlsx',sheet_name = '2018')\n",
    "data_2017 = pd.read_excel('Formula 1.xlsx',sheet_name = '2017')\n",
    "data_2016 = pd.read_excel('Formula 1.xlsx',sheet_name = '2016')"
   ]
  },
  {
   "cell_type": "code",
   "execution_count": null,
   "metadata": {},
   "outputs": [],
   "source": [
    "#The following function turns the races 1-21 into an array containing all drivers. This Group_Gen allows \n",
    "#the combination function to find all correpsonding combinations \n",
    "\n",
    "def Group_Gen(df_arr,df):\n",
    "    Group = []\n",
    "    for i in range(len(df.columns[2:-1])):\n",
    "        Group.append(df_arr[:,[1,2+i]])\n",
    "    return Group\n",
    "\n",
    "def Names_Gen(Names,ok):\n",
    "    finale = np.zeros(len(Names))\n",
    "    for j in range(len(finale)):\n",
    "        finale[j] = (np.count_nonzero(Names[j] == ok[:,0,0,0]))/len(ok)        \n",
    "    return finale\n",
    "                \n",
    "def Process_Gen(ok,i):\n",
    "    \n",
    "    for j in range(len(ok[i])): #length of combinatoins per box, 1,2,3,4,5\n",
    "        if j==0:\n",
    "            K = (ok[i,j])\n",
    "            M = K[:,1]\n",
    "            N = K[np.argmax(M),0]\n",
    "            \n",
    "        if j>0:\n",
    "            Q = ok[i,j,:,1:]\n",
    "            K = np.append(K,Q,axis=1)\n",
    "            \n",
    "            for z in range(len(K)):\n",
    "                K[z,1] = np.sum(K[z,1:],axis=0)\n",
    "                \n",
    "            K = np.delete(K,np.s_[2:],axis=1)\n",
    "            M = K[:,1]\n",
    "            \n",
    "            if len(np.argwhere(M ==np.amax(M))) == 1:\n",
    "                N = K[np.argmax(M),0]\n",
    "           \n",
    "    return N "
   ]
  },
  {
   "cell_type": "code",
   "execution_count": null,
   "metadata": {},
   "outputs": [],
   "source": [
    "def Probability_Gen(df):\n",
    "    \n",
    "    df_arr = np.array(df)\n",
    "    Names = df_arr[:,1]\n",
    "    Group = Group_Gen(df_arr,df)\n",
    "\n",
    "    for e in range(len(df.columns[2:-1])):\n",
    "\n",
    "        start = time.time()\n",
    "        \n",
    "        ok = np.array(list(itertools.combinations(Group,e+1))) #possibly 1,2,3,4,5 etc\n",
    "        length = len(ok)\n",
    "        for i in range(len(ok)): \n",
    "            ok[i] = Process_Gen(ok,i)\n",
    "            \n",
    "        finale = Names_Gen(Names,ok)\n",
    "                \n",
    "        for i in range(len(finale)):\n",
    "            df_arr[i,2+e] = finale[i]\n",
    "            \n",
    "        end = time.time()\n",
    "        print(end - start)\n",
    "        df = pd.DataFrame(df_arr)\n",
    "        \n",
    "    return df"
   ]
  },
  {
   "cell_type": "code",
   "execution_count": null,
   "metadata": {},
   "outputs": [],
   "source": [
    "Data_2019 = Probability_Gen(data_2019)"
   ]
  },
  {
   "cell_type": "code",
   "execution_count": null,
   "metadata": {},
   "outputs": [],
   "source": []
  }
 ],
 "metadata": {
  "kernelspec": {
   "display_name": "Python 3",
   "language": "python",
   "name": "python3"
  },
  "language_info": {
   "codemirror_mode": {
    "name": "ipython",
    "version": 3
   },
   "file_extension": ".py",
   "mimetype": "text/x-python",
   "name": "python",
   "nbconvert_exporter": "python",
   "pygments_lexer": "ipython3",
   "version": "3.7.3"
  }
 },
 "nbformat": 4,
 "nbformat_minor": 2
}
